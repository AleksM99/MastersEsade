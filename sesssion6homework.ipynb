{
 "cells": [
  {
   "metadata": {},
   "cell_type": "markdown",
   "source": [
    "## Pandas I\n",
    "\n",
    "Home exercises for Netflix:\n",
    "\n",
    "1. Is there any missing rating?\n",
    "2. How many films in 2021 correspond to your country?\n",
    "3. What's the number of movies in 2020 with full information?\n",
    "4. Give me the year with more titles,\n",
    "5. and what has been the average in terms of releases from 2010. \n",
    "\n",
    "And for Titanic:\n",
    "\n",
    "1. Calculate Gender-Based Survival Percentage\n",
    "\n",
    "2. Calculate Survival Percentage Grouped by Gender and Class"
   ],
   "id": "4d10c3806ac009a4"
  },
  {
   "metadata": {
    "ExecuteTime": {
     "end_time": "2024-11-11T17:59:29.402934Z",
     "start_time": "2024-11-11T17:59:29.318544Z"
    }
   },
   "cell_type": "code",
   "source": [
    "import pandas as pd\n",
    "path = 'netflix_titles.csv'\n",
    "path2 = 'train_and_test2.csv'\n",
    "\n",
    "df_n = pd.read_csv(path)\n"
   ],
   "id": "36d3aec94d3dfc9a",
   "outputs": [],
   "execution_count": 33
  },
  {
   "metadata": {
    "ExecuteTime": {
     "end_time": "2024-11-11T17:59:30.263729Z",
     "start_time": "2024-11-11T17:59:30.259145Z"
    }
   },
   "cell_type": "code",
   "source": [
    "#Netflix exercises\n",
    "#looking for missing values within the rating column\n",
    "missing_ratings = df_n['rating'].isnull().sum()\n",
    "print(f\"Number of missing values in 'rating' column: {missing_ratings}\")\n"
   ],
   "id": "cebdcdbd52a2c477",
   "outputs": [
    {
     "name": "stdout",
     "output_type": "stream",
     "text": [
      "Number of missing values in 'rating' column: 4\n"
     ]
    }
   ],
   "execution_count": 34
  },
  {
   "metadata": {
    "ExecuteTime": {
     "end_time": "2024-11-11T17:59:30.727716Z",
     "start_time": "2024-11-11T17:59:30.722155Z"
    }
   },
   "cell_type": "code",
   "source": [
    "#searching for matches where year = 2021 and country = poland\n",
    "films_2021_poland = df_n[(df_n['release_year'] == 2021) & (df_n['country'] == 'Poland')]\n",
    "count_films_2021_poland = films_2021_poland.shape[0]\n",
    "print(f\"Number of films from Poland in 2021: {count_films_2021_poland}\")\n"
   ],
   "id": "4ad87dd6395ea8db",
   "outputs": [
    {
     "name": "stdout",
     "output_type": "stream",
     "text": [
      "Number of films from Poland in 2021: 4\n"
     ]
    }
   ],
   "execution_count": 35
  },
  {
   "metadata": {
    "ExecuteTime": {
     "end_time": "2024-11-11T17:59:31.207223Z",
     "start_time": "2024-11-11T17:59:31.196658Z"
    }
   },
   "cell_type": "code",
   "source": [
    "#condition for movies that are 2020 released and have no missing values\n",
    "movies_2020_no_missing = df_n[(df_n['release_year'] == 2020) & (df_n.notna().all(axis=1))]\n",
    "print(movies_2020_no_missing.shape[0])\n"
   ],
   "id": "3ff6a5b81d08a8d0",
   "outputs": [
    {
     "name": "stdout",
     "output_type": "stream",
     "text": [
      "442\n"
     ]
    }
   ],
   "execution_count": 36
  },
  {
   "metadata": {
    "ExecuteTime": {
     "end_time": "2024-11-11T17:59:31.737972Z",
     "start_time": "2024-11-11T17:59:31.733158Z"
    }
   },
   "cell_type": "code",
   "source": [
    "#looking for the release year that happens the most in the data frame\n",
    "#value counts sorts descending years - counts \n",
    "most_titles_year = df_n['release_year'].value_counts().index[0] #taking first index of the dataframe\n",
    "title_count = df_n['release_year'].value_counts().iloc[0] #taking first value of the data frame\n",
    "print(f\"The release year with the most titles is {most_titles_year} with {title_count} titles.\")\n"
   ],
   "id": "7506d8c22462ce83",
   "outputs": [
    {
     "name": "stdout",
     "output_type": "stream",
     "text": [
      "The release year with the most titles is 2018 with 1147 titles.\n"
     ]
    }
   ],
   "execution_count": 37
  },
  {
   "metadata": {
    "ExecuteTime": {
     "end_time": "2024-11-11T17:59:32.453972Z",
     "start_time": "2024-11-11T17:59:32.415809Z"
    }
   },
   "cell_type": "code",
   "source": [
    "#due to different data type for series and movies we do 2 different means\n",
    "# Drop rows with NaN in the 'duration' column\n",
    "df_n = df_n.dropna(subset=['duration'])\n",
    "\n",
    "# Separate movies and series\n",
    "movies = df_n[df_n['duration'].str.contains(\"min\")]\n",
    "series = df_n[df_n['duration'].str.contains(\"Season\")]\n",
    "\n",
    "# Convert duration for movies to integer (in minutes)\n",
    "movies['duration'] = movies['duration'].str.split().str[0].astype(int)\n",
    "\n",
    "# For series, split on space and take the first part as an integer\n",
    "series['duration'] = series['duration'].str.split().str[0].astype(int)\n",
    "\n",
    "# Calculate the average duration for movies and series\n",
    "average_movie_duration = movies[movies['release_year'] == 2010]['duration'].mean()\n",
    "average_series_seasons = series[series['release_year'] == 2010]['duration'].mean()\n",
    "\n",
    "print(f\"The average duration for movies in 2010 is: {average_movie_duration} minutes\")\n",
    "print(f\"The average number of seasons for series in 2010 is: {average_series_seasons} seasons\")\n"
   ],
   "id": "8fe9e9c1edf261e0",
   "outputs": [
    {
     "name": "stdout",
     "output_type": "stream",
     "text": [
      "The average duration for movies in 2010 is: 104.45751633986929 minutes\n",
      "The average number of seasons for series in 2010 is: 1.65 seasons\n"
     ]
    },
    {
     "name": "stderr",
     "output_type": "stream",
     "text": [
      "/var/folders/2r/wzytnbfj78n1b_382jnx9wqc0000gn/T/ipykernel_52394/2560814298.py:10: SettingWithCopyWarning: \n",
      "A value is trying to be set on a copy of a slice from a DataFrame.\n",
      "Try using .loc[row_indexer,col_indexer] = value instead\n",
      "\n",
      "See the caveats in the documentation: https://pandas.pydata.org/pandas-docs/stable/user_guide/indexing.html#returning-a-view-versus-a-copy\n",
      "  movies['duration'] = movies['duration'].str.split().str[0].astype(int)\n",
      "/var/folders/2r/wzytnbfj78n1b_382jnx9wqc0000gn/T/ipykernel_52394/2560814298.py:13: SettingWithCopyWarning: \n",
      "A value is trying to be set on a copy of a slice from a DataFrame.\n",
      "Try using .loc[row_indexer,col_indexer] = value instead\n",
      "\n",
      "See the caveats in the documentation: https://pandas.pydata.org/pandas-docs/stable/user_guide/indexing.html#returning-a-view-versus-a-copy\n",
      "  series['duration'] = series['duration'].str.split().str[0].astype(int)\n"
     ]
    }
   ],
   "execution_count": 38
  },
  {
   "metadata": {
    "ExecuteTime": {
     "end_time": "2024-11-11T18:02:34.309519Z",
     "start_time": "2024-11-11T18:02:34.293335Z"
    }
   },
   "cell_type": "code",
   "source": [
    "#Titanic\n",
    "df_t = pd.read_csv(path2)\n",
    "df_t.head()\n",
    "#Calculate Gender-Based Survival Percentage\n",
    "# Group by 'sex' and calculate the survival percentage\n",
    "gender_survival_percentage = df_t.groupby('Sex')['2urvived'].mean() * 100\n",
    "\n",
    "print(\"Gender-Based Survival Percentage:\")\n",
    "print(gender_survival_percentage)\n",
    "\n"
   ],
   "id": "56811671ff672966",
   "outputs": [
    {
     "name": "stdout",
     "output_type": "stream",
     "text": [
      "Gender-Based Survival Percentage:\n",
      "Sex\n",
      "0    12.930012\n",
      "1    50.000000\n",
      "Name: 2urvived, dtype: float64\n"
     ]
    }
   ],
   "execution_count": 42
  },
  {
   "metadata": {
    "ExecuteTime": {
     "end_time": "2024-11-11T18:10:06.350828Z",
     "start_time": "2024-11-11T18:10:06.337713Z"
    }
   },
   "cell_type": "code",
   "source": [
    "#2. Calculate Survival Percentage Grouped by Gender and Class\n",
    "# Group by 'sex' and 'class', then calculate the survival percentage\n",
    "gender_class_survival_percentage = df_t.groupby(['Sex', 'Pclass'])['2urvived'].mean() * 100\n",
    "\n",
    "print(\"Survival Percentage Grouped by Gender and Class:\")\n",
    "print(gender_class_survival_percentage)\n"
   ],
   "id": "6fa38a760132217f",
   "outputs": [
    {
     "name": "stdout",
     "output_type": "stream",
     "text": [
      "Survival Percentage Grouped by Gender and Class:\n",
      "Sex  Pclass\n",
      "0    1         25.139665\n",
      "     2          9.941520\n",
      "     3          9.533469\n",
      "1    1         63.194444\n",
      "     2         66.037736\n",
      "     3         33.333333\n",
      "Name: 2urvived, dtype: float64\n"
     ]
    }
   ],
   "execution_count": 47
  }
 ],
 "metadata": {
  "kernelspec": {
   "display_name": "Python 3",
   "language": "python",
   "name": "python3"
  },
  "language_info": {
   "codemirror_mode": {
    "name": "ipython",
    "version": 2
   },
   "file_extension": ".py",
   "mimetype": "text/x-python",
   "name": "python",
   "nbconvert_exporter": "python",
   "pygments_lexer": "ipython2",
   "version": "2.7.6"
  }
 },
 "nbformat": 4,
 "nbformat_minor": 5
}
